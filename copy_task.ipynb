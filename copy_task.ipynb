{
 "cells": [
  {
   "cell_type": "code",
   "execution_count": 1,
   "metadata": {},
   "outputs": [],
   "source": [
    "from pathlib import Path\n",
    "import requests\n",
    "from itertools import chain\n",
    "import pickle\n",
    "import gzip\n",
    "from matplotlib import pyplot as plt\n",
    "import numpy as np\n",
    "import torch\n",
    "from torch import nn\n",
    "from torch import optim\n",
    "from torch.utils.data import TensorDataset\n",
    "from torch.utils.data import DataLoader\n",
    "import torch.nn.functional as F\n",
    "import math\n",
    "\n",
    "import RNN_model"
   ]
  },
  {
   "cell_type": "code",
   "execution_count": 2,
   "metadata": {},
   "outputs": [],
   "source": [
    "# number of symbols to recall\n",
    "k = 5\n",
    "# waiting time before recall\n",
    "t = 10"
   ]
  },
  {
   "cell_type": "code",
   "execution_count": 3,
   "metadata": {},
   "outputs": [],
   "source": [
    "# Generates training and testing data for copy task\n",
    "# k: number of symbols to recall at begining of input\n",
    "# t: number of random symbols before recall\n",
    "# batch_size: batch size\n",
    "# n_batches: number of batches. Total number of trials = n_batches x batch_size\n",
    "# shuffle: True or False. Whether to shuffle data each time the dataloader is used\n",
    "# return: pytorch DataLoader with x and y tensors of shape #TODO\n",
    "def generate_data(k,t,batch_size,n_batches,shuffle):\n",
    "    x = torch.rand(n_batches*batch_size,k+t,1)\n",
    "    y = x[:,:k].reshape(n_batches*batch_size,k)\n",
    "    ds = TensorDataset(x, y)\n",
    "    dl = DataLoader(ds,batch_size=batch_size,shuffle=shuffle)\n",
    "    return dl"
   ]
  },
  {
   "cell_type": "code",
   "execution_count": 4,
   "metadata": {},
   "outputs": [],
   "source": [
    "train_dl = generate_data(k,t,200,300,False)\n",
    "test_dl = generate_data(k,t,500,1,True)"
   ]
  },
  {
   "cell_type": "code",
   "execution_count": 5,
   "metadata": {},
   "outputs": [],
   "source": [
    "n_steps = k+t\n",
    "n_inputs = 1\n",
    "n_neurons = 100\n",
    "n_outputs = k\n",
    "loss_func = F.mse_loss\n",
    "opt_func = optim.SGD\n",
    "lr = 0.01\n",
    "\n",
    "model = RNN_model.RNN_target_value(n_steps, n_inputs, n_neurons, n_outputs, loss_func, opt_func, lr)"
   ]
  },
  {
   "cell_type": "code",
   "execution_count": 10,
   "metadata": {},
   "outputs": [
    {
     "name": "stdout",
     "output_type": "stream",
     "text": [
      "0\n",
      "1\n",
      "2\n"
     ]
    },
    {
     "data": {
      "text/plain": [
       "[<matplotlib.lines.Line2D at 0x79bfc0bd5748>]"
      ]
     },
     "execution_count": 10,
     "metadata": {},
     "output_type": "execute_result"
    },
    {
     "data": {
      "image/png": "[encoded data removed]",
      "text/plain": [
       "<Figure size 432x288 with 1 Axes>"
      ]
     },
     "metadata": {
      "needs_background": "light"
     },
     "output_type": "display_data"
    }
   ],
   "source": [
    "loss_array = model.fit(3,train_dl)\n",
    "\n",
    "plt.plot(loss_array)"
   ]
  },
  {
   "cell_type": "code",
   "execution_count": 14,
   "metadata": {},
   "outputs": [
    {
     "data": {
      "text/plain": [
       "tensor(0.8160)"
      ]
     },
     "execution_count": 14,
     "metadata": {},
     "output_type": "execute_result"
    }
   ],
   "source": [
    "model.accuracy(test_dl,1/3*np.sqrt(k))"
   ]
  },
  {
   "cell_type": "code",
   "execution_count": null,
   "metadata": {},
   "outputs": [],
   "source": []
  }
 ],
 "metadata": {
  "kernelspec": {
   "display_name": "Python 3",
   "language": "python",
   "name": "python3"
  },
  "language_info": {
   "codemirror_mode": {
    "name": "ipython",
    "version": 3
   },
   "file_extension": ".py",
   "mimetype": "text/x-python",
   "name": "python",
   "nbconvert_exporter": "python",
   "pygments_lexer": "ipython3",
   "version": "3.5.2"
  }
 },
 "nbformat": 4,
 "nbformat_minor": 2
}
