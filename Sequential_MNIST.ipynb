{
 "cells": [
  {
   "cell_type": "markdown",
   "metadata": {},
   "source": [
    "# Packages"
   ]
  },
  {
   "cell_type": "code",
   "execution_count": 1,
   "metadata": {},
   "outputs": [],
   "source": [
    "from pathlib import Path\n",
    "import requests\n",
    "import pickle\n",
    "import gzip\n",
    "from matplotlib import pyplot as plt\n",
    "import numpy as np\n",
    "import torch\n",
    "from torch import nn\n",
    "from torch import optim\n",
    "from torch.utils.data import TensorDataset\n",
    "from torch.utils.data import DataLoader\n",
    "import torch.nn.functional as F\n",
    "import math\n",
    "\n",
    "import RNN_model"
   ]
  },
  {
   "cell_type": "markdown",
   "metadata": {},
   "source": [
    "# Data import and pre-processing"
   ]
  },
  {
   "cell_type": "code",
   "execution_count": 2,
   "metadata": {},
   "outputs": [],
   "source": [
    "DATA_PATH = Path(\"data\")\n",
    "PATH = DATA_PATH / \"mnist\"\n",
    "\n",
    "PATH.mkdir(parents=True, exist_ok=True)\n",
    "\n",
    "URL = \"http://deeplearning.net/data/mnist/\"\n",
    "FILENAME = \"mnist.pkl.gz\"\n",
    "\n",
    "if not (PATH / FILENAME).exists():\n",
    "        content = requests.get(URL + FILENAME).content\n",
    "        (PATH / FILENAME).open(\"wb\").write(content)"
   ]
  },
  {
   "cell_type": "code",
   "execution_count": 3,
   "metadata": {},
   "outputs": [],
   "source": [
    "with gzip.open((PATH / FILENAME).as_posix(), \"rb\") as f:\n",
    "        ((x_train, y_train), (x_valid, y_valid), _) = pickle.load(f, encoding=\"latin-1\")\n",
    "\n",
    "x_train, y_train, x_valid, y_valid = map(\n",
    "    torch.tensor, (x_train.reshape(x_train.shape[0],28,28), y_train, x_valid.reshape(x_valid.shape[0],28,28), y_valid)\n",
    ")\n",
    "\n",
    "train_ds = TensorDataset(x_train, y_train)\n",
    "n, c, temp = x_train.shape\n",
    "bs = 2000  # batch size\n",
    "train_dl = DataLoader(train_ds, batch_size=bs)\n",
    "\n",
    "valid_ds = TensorDataset(x_valid, y_valid)\n",
    "valid_dl = DataLoader(valid_ds, batch_size=len(valid_ds))"
   ]
  },
  {
   "cell_type": "markdown",
   "metadata": {},
   "source": [
    "# Network instantiation and training"
   ]
  },
  {
   "cell_type": "code",
   "execution_count": 4,
   "metadata": {},
   "outputs": [],
   "source": [
    "n_inputs = 28\n",
    "n_neurons = 200\n",
    "n_outputs = 10\n",
    "# The cross_entropy loss takes as input a N by C tensor (N observations with C class scores that are un-normalized, highest\n",
    "# class score being the prediction) and a tensor of length N with the index of each class.\n",
    "loss_func = F.cross_entropy\n",
    "opt_func = optim.Adam\n",
    "lr = 0.0005\n",
    "\n",
    "model = RNN_model.RNN_classifier(n_inputs, n_neurons, n_outputs, loss_func, opt_func, lr)"
   ]
  },
  {
   "cell_type": "code",
   "execution_count": 5,
   "metadata": {},
   "outputs": [
    {
     "name": "stdout",
     "output_type": "stream",
     "text": [
      "tensor(0.1244)\n"
     ]
    }
   ],
   "source": [
    "print(model.accuracy(valid_dl))"
   ]
  },
  {
   "cell_type": "code",
   "execution_count": 6,
   "metadata": {
    "scrolled": true
   },
   "outputs": [
    {
     "name": "stdout",
     "output_type": "stream",
     "text": [
      "Epoch:  0\n",
      "Accuracy:  0.40869998931884766\n",
      "Epoch:  1\n",
      "Accuracy:  0.5591999888420105\n",
      "Epoch:  2\n",
      "Accuracy:  0.6079999804496765\n",
      "Epoch:  3\n",
      "Accuracy:  0.65829998254776\n",
      "Epoch:  4\n",
      "Accuracy:  0.7257999777793884\n",
      "Epoch:  5\n",
      "Accuracy:  0.753600001335144\n",
      "Epoch:  6\n",
      "Accuracy:  0.7840999960899353\n",
      "Epoch:  7\n",
      "Accuracy:  0.8172000050544739\n",
      "Epoch:  8\n",
      "Accuracy:  0.8432000279426575\n",
      "Epoch:  9\n",
      "Accuracy:  0.8557999730110168\n",
      "Epoch:  10\n",
      "Accuracy:  0.868399977684021\n",
      "Epoch:  11\n",
      "Accuracy:  0.8715999722480774\n",
      "Epoch:  12\n",
      "Accuracy:  0.8833000063896179\n",
      "Epoch:  13\n",
      "Accuracy:  0.8899000287055969\n",
      "Epoch:  14\n",
      "Accuracy:  0.8914999961853027\n",
      "Epoch:  15\n",
      "Accuracy:  0.8945000171661377\n",
      "Epoch:  16\n",
      "Accuracy:  0.8999000191688538\n",
      "Epoch:  17\n",
      "Accuracy:  0.9067000150680542\n",
      "Epoch:  18\n",
      "Accuracy:  0.910099983215332\n",
      "Epoch:  19\n",
      "Accuracy:  0.911899983882904\n",
      "Epoch:  20\n",
      "Accuracy:  0.9151999950408936\n",
      "Epoch:  21\n",
      "Accuracy:  0.9182000160217285\n",
      "Epoch:  22\n",
      "Accuracy:  0.9207000136375427\n",
      "Epoch:  23\n",
      "Accuracy:  0.9230999946594238\n",
      "Epoch:  24\n",
      "Accuracy:  0.9247000217437744\n",
      "Epoch:  25\n",
      "Accuracy:  0.9265999794006348\n",
      "Epoch:  26\n",
      "Accuracy:  0.9284999966621399\n",
      "Epoch:  27\n",
      "Accuracy:  0.930400013923645\n",
      "Epoch:  28\n",
      "Accuracy:  0.9322999715805054\n",
      "Epoch:  29\n",
      "Accuracy:  0.9348999857902527\n",
      "tensor(0.9349)\n"
     ]
    },
    {
     "data": {
      "image/png": "[encoded data removed]",
      "text/plain": [
       "<Figure size 432x288 with 1 Axes>"
      ]
     },
     "metadata": {
      "needs_background": "light"
     },
     "output_type": "display_data"
    }
   ],
   "source": [
    "loss_array, parameters, hidden_states = model.fit(30,train_dl,valid_dl)\n",
    "\n",
    "plt.plot(loss_array)\n",
    "\n",
    "print(model.accuracy(valid_dl))"
   ]
  },
  {
   "cell_type": "markdown",
   "metadata": {},
   "source": [
    "# Saving and loading a network"
   ]
  },
  {
   "cell_type": "code",
   "execution_count": 7,
   "metadata": {},
   "outputs": [],
   "source": [
    "np.save(Path('data','params_ligneparligne.npy'),parameters)"
   ]
  },
  {
   "cell_type": "code",
   "execution_count": 8,
   "metadata": {},
   "outputs": [],
   "source": [
    "torch.save({'state_dict': model.state_dict()}, Path('data','seqMNIST_lpl_200n'))"
   ]
  },
  {
   "cell_type": "code",
   "execution_count": 9,
   "metadata": {},
   "outputs": [
    {
     "data": {
      "text/plain": [
       "IncompatibleKeys(missing_keys=[], unexpected_keys=[])"
      ]
     },
     "execution_count": 9,
     "metadata": {},
     "output_type": "execute_result"
    }
   ],
   "source": [
    "model1 = RNN_model.RNN_classifier(n_inputs, n_neurons, n_outputs, loss_func, opt_func, lr)\n",
    "\n",
    "checkpoint = torch.load('data/seqMNIST_lpl_200n')\n",
    "model1.load_state_dict(checkpoint['state_dict'])"
   ]
  },
  {
   "cell_type": "code",
   "execution_count": 10,
   "metadata": {},
   "outputs": [
    {
     "name": "stdout",
     "output_type": "stream",
     "text": [
      "tensor(0.9349)\n"
     ]
    }
   ],
   "source": [
    "print(model1.accuracy(valid_dl))"
   ]
  },
  {
   "cell_type": "code",
   "execution_count": 11,
   "metadata": {},
   "outputs": [],
   "source": [
    "a=model1.get_params()"
   ]
  },
  {
   "cell_type": "markdown",
   "metadata": {},
   "source": [
    "# Analysis"
   ]
  },
  {
   "cell_type": "code",
   "execution_count": 45,
   "metadata": {},
   "outputs": [
    {
     "data": {
      "text/plain": [
       "10000"
      ]
     },
     "execution_count": 45,
     "metadata": {},
     "output_type": "execute_result"
    }
   ],
   "source": [
    "a_bs = 1  # batch size\n",
    "a_train_dl = DataLoader(train_ds, batch_size=a_bs)\n",
    "a_valid_dl = DataLoader(valid_ds, batch_size=a_bs)\n",
    "len(analysis_ds)"
   ]
  },
  {
   "cell_type": "code",
   "execution_count": 46,
   "metadata": {},
   "outputs": [],
   "source": [
    "predictions = list()\n",
    "hidden_states = list()\n",
    "inputs = list()\n",
    "expected = list()\n",
    "loss = list()\n",
    "# 3 outputs of forward (out.view(-1, self.n_outputs), self.hidden, rnn_out)\n",
    "i=0;\n",
    "for xb,yb in a_valid_dl:\n",
    "    pred, hidden = model.forward(xb)\n",
    "    inputs.append(xb)\n",
    "    expected.append(yb)\n",
    "    \n",
    "    # loss is computed for a batch at the time and not a single input at the time\n",
    "    loss.append(model.loss_func(pred, yb))\n",
    "    predictions.append(pred)\n",
    "    hidden_states.append(hidden)\n",
    "    i=i+1"
   ]
  },
  {
   "cell_type": "code",
   "execution_count": 27,
   "metadata": {},
   "outputs": [
    {
     "data": {
      "text/plain": [
       "2000"
      ]
     },
     "execution_count": 27,
     "metadata": {},
     "output_type": "execute_result"
    }
   ],
   "source": [
    "len(states0[0])"
   ]
  },
  {
   "cell_type": "code",
   "execution_count": 35,
   "metadata": {},
   "outputs": [
    {
     "data": {
      "text/plain": [
       "array([-3.60529  , -1.0166254, -1.179369 , -4.449674 ,  7.0962133,\n",
       "       -3.194273 ,  1.0456275, -2.1580691,  1.0595174,  3.2945924],\n",
       "      dtype=float32)"
      ]
     },
     "execution_count": 35,
     "metadata": {},
     "output_type": "execute_result"
    }
   ],
   "source": [
    "b=states0[0].data.numpy()\n",
    "b[2]"
   ]
  },
  {
   "cell_type": "code",
   "execution_count": 33,
   "metadata": {},
   "outputs": [
    {
     "data": {
      "text/plain": [
       "array([4, 7, 8, ..., 8, 4, 8], dtype=int64)"
      ]
     },
     "execution_count": 33,
     "metadata": {},
     "output_type": "execute_result"
    }
   ],
   "source": [
    "yb.data.numpy()"
   ]
  },
  {
   "cell_type": "code",
   "execution_count": 40,
   "metadata": {},
   "outputs": [
    {
     "ename": "TypeError",
     "evalue": "len() of a 0-d tensor",
     "output_type": "error",
     "traceback": [
      "\u001b[1;31m---------------------------------------------------------------------------\u001b[0m",
      "\u001b[1;31mTypeError\u001b[0m                                 Traceback (most recent call last)",
      "\u001b[1;32m<ipython-input-40-c4fda82bd330>\u001b[0m in \u001b[0;36m<module>\u001b[1;34m\u001b[0m\n\u001b[1;32m----> 1\u001b[1;33m \u001b[0mlen\u001b[0m\u001b[1;33m(\u001b[0m\u001b[0mloss\u001b[0m\u001b[1;33m[\u001b[0m\u001b[1;36m0\u001b[0m\u001b[1;33m]\u001b[0m\u001b[1;33m)\u001b[0m\u001b[1;33m\u001b[0m\u001b[1;33m\u001b[0m\u001b[0m\n\u001b[0m",
      "\u001b[1;32m~\\Anaconda3\\lib\\site-packages\\torch\\tensor.py\u001b[0m in \u001b[0;36m__len__\u001b[1;34m(self)\u001b[0m\n\u001b[0;32m    417\u001b[0m     \u001b[1;32mdef\u001b[0m \u001b[0m__len__\u001b[0m\u001b[1;33m(\u001b[0m\u001b[0mself\u001b[0m\u001b[1;33m)\u001b[0m\u001b[1;33m:\u001b[0m\u001b[1;33m\u001b[0m\u001b[1;33m\u001b[0m\u001b[0m\n\u001b[0;32m    418\u001b[0m         \u001b[1;32mif\u001b[0m \u001b[0mself\u001b[0m\u001b[1;33m.\u001b[0m\u001b[0mdim\u001b[0m\u001b[1;33m(\u001b[0m\u001b[1;33m)\u001b[0m \u001b[1;33m==\u001b[0m \u001b[1;36m0\u001b[0m\u001b[1;33m:\u001b[0m\u001b[1;33m\u001b[0m\u001b[1;33m\u001b[0m\u001b[0m\n\u001b[1;32m--> 419\u001b[1;33m             \u001b[1;32mraise\u001b[0m \u001b[0mTypeError\u001b[0m\u001b[1;33m(\u001b[0m\u001b[1;34m\"len() of a 0-d tensor\"\u001b[0m\u001b[1;33m)\u001b[0m\u001b[1;33m\u001b[0m\u001b[1;33m\u001b[0m\u001b[0m\n\u001b[0m\u001b[0;32m    420\u001b[0m         \u001b[1;32mreturn\u001b[0m \u001b[0mself\u001b[0m\u001b[1;33m.\u001b[0m\u001b[0mshape\u001b[0m\u001b[1;33m[\u001b[0m\u001b[1;36m0\u001b[0m\u001b[1;33m]\u001b[0m\u001b[1;33m\u001b[0m\u001b[1;33m\u001b[0m\u001b[0m\n\u001b[0;32m    421\u001b[0m \u001b[1;33m\u001b[0m\u001b[0m\n",
      "\u001b[1;31mTypeError\u001b[0m: len() of a 0-d tensor"
     ]
    }
   ],
   "source": []
  },
  {
   "cell_type": "code",
   "execution_count": null,
   "metadata": {},
   "outputs": [],
   "source": []
  }
 ],
 "metadata": {
  "kernelspec": {
   "display_name": "Python 3",
   "language": "python",
   "name": "python3"
  },
  "language_info": {
   "codemirror_mode": {
    "name": "ipython",
    "version": 3
   },
   "file_extension": ".py",
   "mimetype": "text/x-python",
   "name": "python",
   "nbconvert_exporter": "python",
   "pygments_lexer": "ipython3",
   "version": "3.7.3"
  }
 },
 "nbformat": 4,
 "nbformat_minor": 2
}
